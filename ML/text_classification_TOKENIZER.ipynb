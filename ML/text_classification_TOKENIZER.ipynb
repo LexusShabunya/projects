{
 "cells": [
  {
   "cell_type": "markdown",
   "metadata": {
    "id": "qQVgqLg93HvJ"
   },
   "source": [
    "Мы будем работать с датасетом постов из твиттера. Нам предстоит решать задачу бинарной классификации - определять содержатся ли в твитте информация о настоящей катастрофе/инциденте или нет."
   ]
  },
  {
   "cell_type": "code",
   "execution_count": 1,
   "metadata": {
    "id": "TcjEYh7R3HvK"
   },
   "outputs": [],
   "source": [
    "import numpy as np\n",
    "import pandas as pd\n",
    "from typing import  List\n",
    "import matplotlib.pyplot as plt\n",
    "import seaborn as sns\n",
    "import re\n",
    "from string import punctuation"
   ]
  },
  {
   "cell_type": "code",
   "execution_count": 2,
   "metadata": {
    "id": "mjwffGiB3HvK"
   },
   "outputs": [],
   "source": [
    "data = pd.read_csv('https://raw.githubusercontent.com/LexusShabunya/projects/main/DATA/tweets.csv')"
   ]
  },
  {
   "cell_type": "code",
   "execution_count": 3,
   "metadata": {
    "colab": {
     "base_uri": "https://localhost:8080/",
     "height": 206
    },
    "id": "v0uUoFTN3HvK",
    "outputId": "0d37d677-a00d-449c-8f86-6f85dce2ef4a"
   },
   "outputs": [
    {
     "data": {
      "text/html": [
       "<div>\n",
       "<style scoped>\n",
       "    .dataframe tbody tr th:only-of-type {\n",
       "        vertical-align: middle;\n",
       "    }\n",
       "\n",
       "    .dataframe tbody tr th {\n",
       "        vertical-align: top;\n",
       "    }\n",
       "\n",
       "    .dataframe thead th {\n",
       "        text-align: right;\n",
       "    }\n",
       "</style>\n",
       "<table border=\"1\" class=\"dataframe\">\n",
       "  <thead>\n",
       "    <tr style=\"text-align: right;\">\n",
       "      <th></th>\n",
       "      <th>id</th>\n",
       "      <th>keyword</th>\n",
       "      <th>location</th>\n",
       "      <th>text</th>\n",
       "      <th>target</th>\n",
       "    </tr>\n",
       "  </thead>\n",
       "  <tbody>\n",
       "    <tr>\n",
       "      <th>0</th>\n",
       "      <td>1</td>\n",
       "      <td>NaN</td>\n",
       "      <td>NaN</td>\n",
       "      <td>Our Deeds are the Reason of this #earthquake M...</td>\n",
       "      <td>1</td>\n",
       "    </tr>\n",
       "    <tr>\n",
       "      <th>1</th>\n",
       "      <td>4</td>\n",
       "      <td>NaN</td>\n",
       "      <td>NaN</td>\n",
       "      <td>Forest fire near La Ronge Sask. Canada</td>\n",
       "      <td>1</td>\n",
       "    </tr>\n",
       "    <tr>\n",
       "      <th>2</th>\n",
       "      <td>5</td>\n",
       "      <td>NaN</td>\n",
       "      <td>NaN</td>\n",
       "      <td>All residents asked to 'shelter in place' are ...</td>\n",
       "      <td>1</td>\n",
       "    </tr>\n",
       "    <tr>\n",
       "      <th>3</th>\n",
       "      <td>6</td>\n",
       "      <td>NaN</td>\n",
       "      <td>NaN</td>\n",
       "      <td>13,000 people receive #wildfires evacuation or...</td>\n",
       "      <td>1</td>\n",
       "    </tr>\n",
       "    <tr>\n",
       "      <th>4</th>\n",
       "      <td>7</td>\n",
       "      <td>NaN</td>\n",
       "      <td>NaN</td>\n",
       "      <td>Just got sent this photo from Ruby #Alaska as ...</td>\n",
       "      <td>1</td>\n",
       "    </tr>\n",
       "  </tbody>\n",
       "</table>\n",
       "</div>"
      ],
      "text/plain": [
       "   id keyword location                                               text  \\\n",
       "0   1     NaN      NaN  Our Deeds are the Reason of this #earthquake M...   \n",
       "1   4     NaN      NaN             Forest fire near La Ronge Sask. Canada   \n",
       "2   5     NaN      NaN  All residents asked to 'shelter in place' are ...   \n",
       "3   6     NaN      NaN  13,000 people receive #wildfires evacuation or...   \n",
       "4   7     NaN      NaN  Just got sent this photo from Ruby #Alaska as ...   \n",
       "\n",
       "   target  \n",
       "0       1  \n",
       "1       1  \n",
       "2       1  \n",
       "3       1  \n",
       "4       1  "
      ]
     },
     "execution_count": 3,
     "metadata": {},
     "output_type": "execute_result"
    }
   ],
   "source": [
    "data.head()"
   ]
  },
  {
   "cell_type": "markdown",
   "metadata": {
    "id": "YlLemInT3HvL"
   },
   "source": [
    "## Задание 1\n",
    "\n",
    "Выведете на экран информацию о пропусках в данных. Если пропуски присутствуют заполните их пустой строкой."
   ]
  },
  {
   "cell_type": "code",
   "execution_count": 4,
   "metadata": {
    "id": "96aJxmkV4105"
   },
   "outputs": [
    {
     "data": {
      "text/plain": [
       "id          0.000000\n",
       "keyword     0.008013\n",
       "location    0.332720\n",
       "text        0.000000\n",
       "target      0.000000\n",
       "dtype: float64"
      ]
     },
     "execution_count": 4,
     "metadata": {},
     "output_type": "execute_result"
    }
   ],
   "source": [
    "data.isna().mean()\n",
    "# видно что пропуски есть, причём в призаке местоположение - их достаточно весомая часть"
   ]
  },
  {
   "cell_type": "code",
   "execution_count": 5,
   "metadata": {},
   "outputs": [
    {
     "data": {
      "text/plain": [
       "id          False\n",
       "keyword     False\n",
       "location    False\n",
       "text        False\n",
       "target      False\n",
       "dtype: bool"
      ]
     },
     "execution_count": 5,
     "metadata": {},
     "output_type": "execute_result"
    }
   ],
   "source": [
    "data.fillna('', inplace=True) # заполняем пропуски пустой строкой\n",
    "\n",
    "data.isna().any()"
   ]
  },
  {
   "cell_type": "markdown",
   "metadata": {},
   "source": [
    "Разделим данные на обучающую и тестовую выборку"
   ]
  },
  {
   "cell_type": "code",
   "execution_count": 6,
   "metadata": {},
   "outputs": [],
   "source": [
    "from sklearn.model_selection import train_test_split\n",
    "\n",
    "train, test = train_test_split(data, test_size=0.3, random_state=42)"
   ]
  },
  {
   "cell_type": "markdown",
   "metadata": {
    "id": "A8CPBUal3HvL"
   },
   "source": [
    "## Задание 2 \n",
    "Давайте немного посмотрим на наши данные. Визуализируйте (где явно просят) или выведете информацию о следующем:\n",
    "\n",
    "1. Какое распределение классов в обучающей выборке?\n"
   ]
  },
  {
   "cell_type": "code",
   "execution_count": 7,
   "metadata": {
    "id": "WvJ_EU9o5BGm"
   },
   "outputs": [
    {
     "data": {
      "image/png": "[encoded data removed]",
      "text/plain": [
       "<Figure size 3300x1200 with 1 Axes>"
      ]
     },
     "metadata": {
      "needs_background": "light"
     },
     "output_type": "display_data"
    }
   ],
   "source": [
    "y_train = train.target\n",
    "\n",
    "fig, ax = plt.subplots(1, 1, dpi=300, figsize=(11, 4))\n",
    "\n",
    "ax.hist(y_train)\n",
    "\n",
    "ax.set_title('Распределение классов в обучающей выборке')\n",
    "ax.set_xlabel('Класс')\n",
    "ax.set_ylabel('Количество объектов')\n",
    "\n",
    "plt.show()\n",
    "\n",
    "# распределение классов не сильно разное "
   ]
  },
  {
   "cell_type": "markdown",
   "metadata": {
    "id": "f08KScbP5q2y"
   },
   "source": [
    "2. Посмотрите на колонку \"keyword\" - возьмите 10 наиболее встречающихся значений, постройте ступенчатую диаграмму распределения классов в зависимости от значения keyword, сделайте выводы."
   ]
  },
  {
   "cell_type": "code",
   "execution_count": 8,
   "metadata": {
    "id": "WSCb0htu5w_Y"
   },
   "outputs": [
    {
     "data": {
      "text/plain": [
       "{'',\n",
       " 'damage',\n",
       " 'deluge',\n",
       " 'derail',\n",
       " 'fatalities',\n",
       " 'fatality',\n",
       " 'fear',\n",
       " 'refugees',\n",
       " 'siren',\n",
       " 'tsunami',\n",
       " 'wreckage'}"
      ]
     },
     "execution_count": 8,
     "metadata": {},
     "output_type": "execute_result"
    }
   ],
   "source": [
    "popular_keywords = train.keyword.value_counts().nlargest(11)\n",
    "popular_keywords = set(popular_keywords.index)\n",
    "popular_keywords"
   ]
  },
  {
   "cell_type": "code",
   "execution_count": 9,
   "metadata": {},
   "outputs": [
    {
     "data": {
      "text/plain": [
       "1186    False\n",
       "4071    False\n",
       "5461    False\n",
       "5787    False\n",
       "7445    False\n",
       "        ...  \n",
       "5226    False\n",
       "5390    False\n",
       "860     False\n",
       "7603     True\n",
       "7270    False\n",
       "Name: keyword, Length: 5329, dtype: bool"
      ]
     },
     "execution_count": 9,
     "metadata": {},
     "output_type": "execute_result"
    }
   ],
   "source": [
    "def is_common_word(word):\n",
    "    if word in popular_keywords:\n",
    "        return True\n",
    "    return False\n",
    "\n",
    "z = train.keyword.apply(is_common_word) # все наблюдения с наиболее частыми значениями keyword\n",
    "z"
   ]
  },
  {
   "cell_type": "code",
   "execution_count": 10,
   "metadata": {
    "colab": {
     "base_uri": "https://localhost:8080/",
     "height": 372
    },
    "id": "r9wSwm4L9REm",
    "outputId": "3c6827d4-d35f-47ac-c756-6ab4740ed0b9"
   },
   "outputs": [
    {
     "data": {
      "image/png": "[encoded data removed]",
      "text/plain": [
       "<Figure size 3300x1200 with 1 Axes>"
      ]
     },
     "metadata": {
      "needs_background": "light"
     },
     "output_type": "display_data"
    }
   ],
   "source": [
    "fig, ax = plt.subplots(1, 1, dpi=300, figsize=(11, 4))\n",
    "\n",
    "sns.histplot(data=train[z], x='keyword', hue='target', ax=ax)\n",
    "\n",
    "ax.set_title('Распределения классов в зависимости от ключевого слова')\n",
    "ax.set_xlabel('Ключевое слово')\n",
    "ax.set_ylabel('Количество объектов')\n",
    "\n",
    "plt.show()\n"
   ]
  },
  {
   "cell_type": "markdown",
   "metadata": {
    "id": "l4al3g9E-P09"
   },
   "source": [
    "**Выводы**: в случае реальной катасрофы в твите чаще всего либо нет ключевого слова, либо это слово - обломки, а когда в твите ключевые слова такие как: сирена, потоп или страх, чаще такие твиты не о реальной катастрофе"
   ]
  },
  {
   "cell_type": "markdown",
   "metadata": {
    "id": "c006nNBP3HvM"
   },
   "source": [
    "## Задание 3\n",
    "\n",
    "В этом задании предлагается объединить все три текстовых столбца в один (просто сконкатенировать cтроки) и убрать столбец с индексом."
   ]
  },
  {
   "cell_type": "code",
   "execution_count": 11,
   "metadata": {
    "colab": {
     "base_uri": "https://localhost:8080/",
     "height": 143
    },
    "id": "GdF9gFmL-c0r",
    "outputId": "ebe008b7-4d0e-4bc2-89f3-60a575c1b1fd"
   },
   "outputs": [
    {
     "data": {
      "text/html": [
       "<div>\n",
       "<style scoped>\n",
       "    .dataframe tbody tr th:only-of-type {\n",
       "        vertical-align: middle;\n",
       "    }\n",
       "\n",
       "    .dataframe tbody tr th {\n",
       "        vertical-align: top;\n",
       "    }\n",
       "\n",
       "    .dataframe thead th {\n",
       "        text-align: right;\n",
       "    }\n",
       "</style>\n",
       "<table border=\"1\" class=\"dataframe\">\n",
       "  <thead>\n",
       "    <tr style=\"text-align: right;\">\n",
       "      <th></th>\n",
       "      <th>id</th>\n",
       "      <th>keyword</th>\n",
       "      <th>location</th>\n",
       "      <th>text</th>\n",
       "      <th>target</th>\n",
       "    </tr>\n",
       "  </thead>\n",
       "  <tbody>\n",
       "    <tr>\n",
       "      <th>6590</th>\n",
       "      <td>9436</td>\n",
       "      <td>survivors</td>\n",
       "      <td>Marietta, GA</td>\n",
       "      <td>Stemming from my #Cubs talk- the team rosters ...</td>\n",
       "      <td>1</td>\n",
       "    </tr>\n",
       "    <tr>\n",
       "      <th>7122</th>\n",
       "      <td>10203</td>\n",
       "      <td>violent%20storm</td>\n",
       "      <td></td>\n",
       "      <td>If you were the NWS wth a rotating storm w/ a ...</td>\n",
       "      <td>1</td>\n",
       "    </tr>\n",
       "    <tr>\n",
       "      <th>2769</th>\n",
       "      <td>3980</td>\n",
       "      <td>devastation</td>\n",
       "      <td>Atlanta g.a.</td>\n",
       "      <td>http://t.co/Gxgm1T3W0J From Devastation to Ela...</td>\n",
       "      <td>0</td>\n",
       "    </tr>\n",
       "  </tbody>\n",
       "</table>\n",
       "</div>"
      ],
      "text/plain": [
       "         id          keyword      location  \\\n",
       "6590   9436        survivors  Marietta, GA   \n",
       "7122  10203  violent%20storm                 \n",
       "2769   3980      devastation  Atlanta g.a.   \n",
       "\n",
       "                                                   text  target  \n",
       "6590  Stemming from my #Cubs talk- the team rosters ...       1  \n",
       "7122  If you were the NWS wth a rotating storm w/ a ...       1  \n",
       "2769  http://t.co/Gxgm1T3W0J From Devastation to Ela...       0  "
      ]
     },
     "execution_count": 11,
     "metadata": {},
     "output_type": "execute_result"
    }
   ],
   "source": [
    "train.loc[[6590, 7122, 2769]]"
   ]
  },
  {
   "cell_type": "code",
   "execution_count": 12,
   "metadata": {
    "id": "lwwJKX_l-eoh"
   },
   "outputs": [],
   "source": [
    "train.drop(columns='id', inplace=True) # удаляем стобец id"
   ]
  },
  {
   "cell_type": "code",
   "execution_count": 13,
   "metadata": {},
   "outputs": [],
   "source": [
    "train.text = train.keyword + ' ' + train.location + ' ' + train.text # конкатенируем признаки\n",
    "train_new = train.drop(columns=['keyword', 'location']) # выкидываем ненужные после конкатенации"
   ]
  },
  {
   "cell_type": "code",
   "execution_count": 14,
   "metadata": {
    "colab": {
     "base_uri": "https://localhost:8080/",
     "height": 143
    },
    "id": "jk7P70XX_CpT",
    "outputId": "5cf01b29-8ada-46d7-f7ee-74e7aed37996"
   },
   "outputs": [
    {
     "data": {
      "text/html": [
       "<div>\n",
       "<style scoped>\n",
       "    .dataframe tbody tr th:only-of-type {\n",
       "        vertical-align: middle;\n",
       "    }\n",
       "\n",
       "    .dataframe tbody tr th {\n",
       "        vertical-align: top;\n",
       "    }\n",
       "\n",
       "    .dataframe thead th {\n",
       "        text-align: right;\n",
       "    }\n",
       "</style>\n",
       "<table border=\"1\" class=\"dataframe\">\n",
       "  <thead>\n",
       "    <tr style=\"text-align: right;\">\n",
       "      <th></th>\n",
       "      <th>text</th>\n",
       "      <th>target</th>\n",
       "    </tr>\n",
       "  </thead>\n",
       "  <tbody>\n",
       "    <tr>\n",
       "      <th>6590</th>\n",
       "      <td>survivors Marietta, GA Stemming from my #Cubs ...</td>\n",
       "      <td>1</td>\n",
       "    </tr>\n",
       "    <tr>\n",
       "      <th>7122</th>\n",
       "      <td>violent%20storm  If you were the NWS wth a rot...</td>\n",
       "      <td>1</td>\n",
       "    </tr>\n",
       "    <tr>\n",
       "      <th>2769</th>\n",
       "      <td>devastation Atlanta g.a. http://t.co/Gxgm1T3W0...</td>\n",
       "      <td>0</td>\n",
       "    </tr>\n",
       "  </tbody>\n",
       "</table>\n",
       "</div>"
      ],
      "text/plain": [
       "                                                   text  target\n",
       "6590  survivors Marietta, GA Stemming from my #Cubs ...       1\n",
       "7122  violent%20storm  If you were the NWS wth a rot...       1\n",
       "2769  devastation Atlanta g.a. http://t.co/Gxgm1T3W0...       0"
      ]
     },
     "execution_count": 14,
     "metadata": {},
     "output_type": "execute_result"
    }
   ],
   "source": [
    "train_new.loc[[6590, 7122, 2769]]"
   ]
  },
  {
   "cell_type": "markdown",
   "metadata": {
    "id": "ViXdGTxP3HvM"
   },
   "source": [
    "## Задание 4 \n",
    "\n",
    "Далее мы будем пока работать только с train частью.\n",
    "\n",
    "1. Предобработайте данные (train часть) с помощью CountVectorizer.\n",
    "2. Какого размера получилась матрица?\n"
   ]
  },
  {
   "cell_type": "code",
   "execution_count": 15,
   "metadata": {
    "id": "oB1MTqUVAbPA"
   },
   "outputs": [
    {
     "data": {
      "text/plain": [
       "<5329x18455 sparse matrix of type '<class 'numpy.int64'>'\n",
       "\twith 86671 stored elements in Compressed Sparse Row format>"
      ]
     },
     "execution_count": 15,
     "metadata": {},
     "output_type": "execute_result"
    }
   ],
   "source": [
    "from sklearn.feature_extraction.text import CountVectorizer\n",
    "\n",
    "cnt_vec = CountVectorizer()\n",
    "\n",
    "X_train = cnt_vec.fit_transform(train_new.text)\n",
    "X_train\n",
    "\n",
    "# получилась матрица огромного размера 5329 строк и 18455 столбцов"
   ]
  },
  {
   "cell_type": "markdown",
   "metadata": {
    "id": "A4waLlnC3HvM"
   },
   "source": [
    "## Задание 5\n",
    "\n",
    "В предыдущем пункте у вас должна была получиться достаточно большая матрица.\n",
    "Если вы взгляните на текст, то увидете, что там есть множество специальных символов, ссылок и прочего мусора.\n",
    "\n",
    "Давайте также посмотрим на словарь, который получился в результате построения CountVectorizer, его можно найти в поле vocabulary_ инстанса этого класса. Давайте напишем функцию, которая печает ответы на следующие вопросы:\n",
    "\n",
    "1. Найдите в этом словаре все слова, которые содержат цифры. Сколько таких слов нашлось?\n",
    "\n",
    "2. Найдите все слова, которые содержат символы пунктуации. Сколько таких слов нашлось? \n",
    "\n",
    "3. Сколько хэштегов (токен начинается на #) и упоминаний (токен начинается на @) осталось в словаре?"
   ]
  },
  {
   "cell_type": "code",
   "execution_count": 16,
   "metadata": {
    "id": "7PhQSWqcHhU8"
   },
   "outputs": [],
   "source": [
    "def contains_digit(s: str) -> bool:\n",
    "    # Проверка, содержит ли слово цифры\n",
    "    return any([symbol.isdigit() for symbol in s]) # если хотя бы одно значение True, то вернёт True\n",
    "\n",
    "def contains_punctuation(s: str) -> bool:\n",
    "    # Проверка, содержит ли слово пунктуацию\n",
    "    PUNCTUATION = set(punctuation) # множество знаков пунктуации, для скорости\n",
    "    \n",
    "    return any([symbol in PUNCTUATION for symbol in s]) \n",
    "\n",
    "def is_hashtag(s: str) -> bool:\n",
    "    # Проверка, является ли слово хэштегом\n",
    "    return s.startswith('#')\n",
    "\n",
    "def is_mention(s: str) -> bool:\n",
    "    # Проверка, является ли слово упоминанием\n",
    "    return s.startswith('@')\n",
    "\n",
    "def investigate_vocabulary(vocabulary): # простейший алгоритм подсчёта слов\n",
    "    with_digit = 0\n",
    "    with_punctuation = 0\n",
    "    hashtags = 0\n",
    "    mentions = 0\n",
    "    \n",
    "    for word, count in vocabulary.items():\n",
    "        if contains_digit(word):\n",
    "            with_digit += 1\n",
    "        \n",
    "        if contains_punctuation(word):\n",
    "            with_punctuation += 1\n",
    "        \n",
    "        if is_hashtag(word):\n",
    "            hashtags += 1\n",
    "        \n",
    "        if is_mention(word):\n",
    "            mentions += 1\n",
    "        \n",
    "    print('With digit:      ', with_digit\n",
    "          )\n",
    "    print('With punctuation:', with_punctuation\n",
    "          )\n",
    "    print('Hashtags:        ', hashtags\n",
    "          )\n",
    "    print('Mentions:        ', mentions\n",
    "          )\n",
    "\n",
    "\n"
   ]
  },
  {
   "cell_type": "code",
   "execution_count": 17,
   "metadata": {
    "colab": {
     "base_uri": "https://localhost:8080/"
    },
    "id": "s8hL5ZcQIdp6",
    "outputId": "c8b50455-38f2-455d-c9f6-96b03a7e09ce"
   },
   "outputs": [
    {
     "name": "stdout",
     "output_type": "stream",
     "text": [
      "With digit:       2\n",
      "With punctuation: 7\n",
      "Hashtags:         1\n",
      "Mentions:         3\n"
     ]
    }
   ],
   "source": [
    "dummy_vocab = {'th1nk' : 0,\n",
    "               'think333' : 1,\n",
    "               'think.' : 2,\n",
    "               'th!nk' : 3,\n",
    "               'th...nk' : 4,\n",
    "               '#think' : 5,\n",
    "               '@think' : 6,\n",
    "               '@thinking':7,\n",
    "               '@nothink' : 8,\n",
    "               'think' : 9}\n",
    "investigate_vocabulary(dummy_vocab)"
   ]
  },
  {
   "cell_type": "code",
   "execution_count": 18,
   "metadata": {
    "id": "VpW8R_SuKR_l"
   },
   "outputs": [
    {
     "name": "stdout",
     "output_type": "stream",
     "text": [
      "With digit:       3812\n",
      "With punctuation: 315\n",
      "Hashtags:         0\n",
      "Mentions:         0\n"
     ]
    }
   ],
   "source": [
    "investigate_vocabulary(cnt_vec.vocabulary_\n",
    "                       )"
   ]
  },
  {
   "cell_type": "markdown",
   "metadata": {
    "id": "bfNLaxX93HvM"
   },
   "source": [
    "## Задание 6 \n",
    "\n",
    "Вспомним, что на семинаре по текстам мы узнали, что в nltk есть специальный токенизатор для текстов - TweetTokenizer. Попробуем применить CountVectorizer с этим токенизатором. Ответьте на все вопросы из предыдущего пункта для TweetTokenizer и сравните результаты."
   ]
  },
  {
   "cell_type": "code",
   "execution_count": 19,
   "metadata": {},
   "outputs": [
    {
     "name": "stdout",
     "output_type": "stream",
     "text": [
      "Requirement already satisfied: nltk in /Users/alex/opt/anaconda3/lib/python3.9/site-packages (3.7)\n",
      "Requirement already satisfied: click in /Users/alex/opt/anaconda3/lib/python3.9/site-packages (from nltk) (8.0.4)\n",
      "Requirement already satisfied: joblib in /Users/alex/opt/anaconda3/lib/python3.9/site-packages (from nltk) (1.1.0)\n",
      "Requirement already satisfied: regex>=2021.8.3 in /Users/alex/opt/anaconda3/lib/python3.9/site-packages (from nltk) (2022.3.15)\n",
      "Requirement already satisfied: tqdm in /Users/alex/opt/anaconda3/lib/python3.9/site-packages (from nltk) (4.64.0)\n"
     ]
    }
   ],
   "source": [
    "!pip install nltk"
   ]
  },
  {
   "cell_type": "code",
   "execution_count": 20,
   "metadata": {},
   "outputs": [],
   "source": [
    "import nltk"
   ]
  },
  {
   "cell_type": "code",
   "execution_count": 21,
   "metadata": {
    "id": "xnlRoXUS3HvM"
   },
   "outputs": [],
   "source": [
    "tokenizer = nltk.tokenize.TweetTokenizer() # создаём экземпляр токенайзера\n",
    "cnt_vec_tweet = CountVectorizer(tokenizer=tokenizer.tokenize) # создаём экзаэмпляр векторайзера с нашим токенизатором"
   ]
  },
  {
   "cell_type": "code",
   "execution_count": 22,
   "metadata": {
    "id": "8lPMIf6UKccT"
   },
   "outputs": [
    {
     "data": {
      "text/plain": [
       "<5329x19670 sparse matrix of type '<class 'numpy.int64'>'\n",
       "\twith 94563 stored elements in Compressed Sparse Row format>"
      ]
     },
     "execution_count": 22,
     "metadata": {},
     "output_type": "execute_result"
    }
   ],
   "source": [
    "X_train = cnt_vec_tweet.fit_transform(train_new.text)\n",
    "X_train"
   ]
  },
  {
   "cell_type": "code",
   "execution_count": 23,
   "metadata": {
    "id": "7oR5kNKVLLpm"
   },
   "outputs": [
    {
     "name": "stdout",
     "output_type": "stream",
     "text": [
      "With digit:       3939\n",
      "With punctuation: 7338\n",
      "Hashtags:         1470\n",
      "Mentions:         1679\n"
     ]
    }
   ],
   "source": [
    "investigate_vocabulary(cnt_vec_tweet.vocabulary_\n",
    "                       )"
   ]
  },
  {
   "cell_type": "markdown",
   "metadata": {
    "id": "Wetr80-ILULV"
   },
   "source": [
    "**Сравнение:** Получается гораздо более большая матрица, а также сильно возросло количество токенов со знаками пунктуации, хэштегами и упоминаниями."
   ]
  },
  {
   "cell_type": "markdown",
   "metadata": {
    "id": "6_k_-i1x3HvM"
   },
   "source": [
    "## Задание 7 \n",
    "\n",
    "В scikit-learn мы можем оценивать процесс подсчета матрицы через CountVectorizer. У CountVectorizer, как и у других наследников \\_VectorizerMixin, есть аргумент tokenizer и preprocessor. preprocessor применится в самом начале к каждой строке вашего датасета, tokenizer же должен принять строку и вернуть токены.\n",
    "Давайте напишем кастомный токенайзер, которые сделает все, что нам нужно: \n",
    "\n",
    "0. Приведет все буквы к нижнему регистру\n",
    "1. Разобьет текст на токены с помощью TweetTokenizer из пакета nltk\n",
    "2. Удалит все токены содержащие не латинские буквы, кроме смайликов (будем считать ими токены содержащие только пунктуацию и, как минимум, одну скобочку) и хэштегов, которые после начальной # содержат только латинские буквы.\n",
    "3. Удалит все токены, которые перечислены в nltk.corpus.stopwords.words('english')\n",
    "4. Проведет стемминг с помощью SnowballStemmer\n",
    "\n"
   ]
  },
  {
   "cell_type": "code",
   "execution_count": 24,
   "metadata": {},
   "outputs": [
    {
     "data": {
      "text/plain": [
       "True"
      ]
     },
     "execution_count": 24,
     "metadata": {},
     "output_type": "execute_result"
    }
   ],
   "source": [
    "nltk.download('stopwords', quiet=True) # загрузка стопслов"
   ]
  },
  {
   "cell_type": "code",
   "execution_count": 25,
   "metadata": {
    "id": "qhwmi7DEMD25"
   },
   "outputs": [],
   "source": [
    "def contains_only_latin_letters(s: str) -> bool:\n",
    "    # Проверка, содержит ли слово только латинские буквы\n",
    "    return not bool(re.search(r'[^a-z]', s)) # находит всё кроме латинских букв, поэтому not\n",
    "\n",
    "def is_emoji(s: str) -> bool:\n",
    "    # Проверка, является ли слово смайликом\n",
    "    PUNCTUATION = set(punctuation)\n",
    "    BRACKETS = set('()')\n",
    "    \n",
    "    only_punct = all([symbol in PUNCTUATION for symbol in s])\n",
    "    had_bracket = any([symbol in BRACKETS for symbol in s])\n",
    "    \n",
    "    return only_punct and had_bracket\n",
    "\n",
    "def is_hashtag(s: str) -> bool:\n",
    "    # Проверка, является ли слово хэштегом\n",
    "    return s.startswith('#') and contains_only_latin_letters(s[1:])\n",
    "\n",
    "def custom_tokenizer(s: str) -> List[str]:    \n",
    "    # Кастомный токенайзер\n",
    "    STOP_WORDS = set(nltk.corpus.stopwords.words('english')) # множество стопслов, для скорости\n",
    "    \n",
    "    stemmer = nltk.stem.snowball.SnowballStemmer('english') # создаём экземпляр стеммера\n",
    "    \n",
    "    s = s.lower() # передим строку в нижний регистр\n",
    "    \n",
    "    tokens = nltk.tokenize.TweetTokenizer().tokenize(s) # токенизируем\n",
    "    \n",
    "    # создаём функцию фильрации по условиям\n",
    "    fliter_func = lambda s: (is_hashtag(s) or is_emoji(s) or contains_only_latin_letters(s)) and s not in STOP_WORDS\n",
    "    \n",
    "    filtered_tokens = filter(fliter_func, tokens) # применяем фильтрацию\n",
    "    \n",
    "    stemmed_tokens = [stemmer.stem(token) for token in filtered_tokens] # делаем стемминг\n",
    "    \n",
    "    return stemmed_tokens\n",
    "    \n",
    "    \n",
    "    \n",
    "  "
   ]
  },
  {
   "cell_type": "code",
   "execution_count": 26,
   "metadata": {
    "colab": {
     "base_uri": "https://localhost:8080/"
    },
    "id": "vYzPZzf8O6vj",
    "outputId": "b1107f8a-eef7-49f7-8ed3-910be791d645"
   },
   "outputs": [
    {
     "data": {
      "text/plain": [
       "['love', 'paint', ':-)', '#art']"
      ]
     },
     "execution_count": 26,
     "metadata": {},
     "output_type": "execute_result"
    }
   ],
   "source": [
    "custom_tokenizer('She LOVES painting :-) #art')"
   ]
  },
  {
   "cell_type": "markdown",
   "metadata": {
    "id": "2S_-ThAf5It4"
   },
   "source": [
    "Продемонстрируйте работу вашей функции на первых десяти текстах в обучающей выборке."
   ]
  },
  {
   "cell_type": "code",
   "execution_count": 27,
   "metadata": {
    "id": "A1fh3_itPz7D"
   },
   "outputs": [
    {
     "data": {
      "text/plain": [
       "1186    [bridg, ash, australia, collaps, trent, bridg,...\n",
       "4071    [hail, carol, stream, illinoi, great, michigan...\n",
       "5461    [polic, houston, cnn, tennesse, movi, theater,...\n",
       "5787        [riot, still, riot, coupl, hour, left, class]\n",
       "7445    [wound, lake, highland, crack, path, wipe, mor...\n",
       "151     [airplan, somewher, expert, franc, begin, exam...\n",
       "915     [bloodi, isol, citi, world, perth, came, kill,...\n",
       "1305                    [burn, except, idk, realli, burn]\n",
       "2570                  [destroy, (, ask, ), destroy, hous]\n",
       "7399    [wound, maracay, nirgua, venezuela, polic, off...\n",
       "Name: text, dtype: object"
      ]
     },
     "execution_count": 27,
     "metadata": {},
     "output_type": "execute_result"
    }
   ],
   "source": [
    "train_new.head(10).text.apply(custom_tokenizer)"
   ]
  },
  {
   "cell_type": "markdown",
   "metadata": {
    "id": "a5lNZ4tb3HvN"
   },
   "source": [
    "## Задание 8 \n",
    "\n",
    "1. Примените CountVectorizer с реализованным выше токенизатором к обучающим и тестовым выборкам.\n"
   ]
  },
  {
   "cell_type": "code",
   "execution_count": 28,
   "metadata": {
    "id": "LDqixz7QQEbn"
   },
   "outputs": [],
   "source": [
    "vectorizer = CountVectorizer(tokenizer=custom_tokenizer\n",
    "                             )\n",
    "\n",
    "X_train = vectorizer.fit_transform(train.text)\n",
    "X_test = vectorizer.transform(test.text)\n",
    "y_train = train.target\n",
    "y_test = test.target"
   ]
  },
  {
   "cell_type": "markdown",
   "metadata": {},
   "source": [
    "2. Обучите LogisticRegression на полученных признаках."
   ]
  },
  {
   "cell_type": "code",
   "execution_count": 29,
   "metadata": {
    "id": "BVj03QV2QbWl"
   },
   "outputs": [],
   "source": [
    "from sklearn.linear_model import LogisticRegression\n",
    "\n",
    "logreg = LogisticRegression().fit(X_train, y_train)"
   ]
  },
  {
   "cell_type": "markdown",
   "metadata": {
    "id": "6Ch6uz2P5e-T"
   },
   "source": [
    "3. Посчитайте метрику f1-score на тестовых данных."
   ]
  },
  {
   "cell_type": "code",
   "execution_count": 30,
   "metadata": {
    "colab": {
     "base_uri": "https://localhost:8080/"
    },
    "id": "osyC0pdT3cSD",
    "outputId": "cd957d5f-5118-4b7f-d7ba-01bb5a524086"
   },
   "outputs": [
    {
     "name": "stdout",
     "output_type": "stream",
     "text": [
      "Matrix size: (5329, 10482)\n",
      "F1 score: 0.7026364193746167\n"
     ]
    }
   ],
   "source": [
    "from sklearn.metrics import f1_score\n",
    "\n",
    "test_score = f1_score(y_test, logreg.predict(X_test))\n",
    "\n",
    "print(f'Matrix size: {X_train.shape}')\n",
    "print(f'F1 score: {test_score}')"
   ]
  },
  {
   "cell_type": "markdown",
   "metadata": {
    "id": "aFIEYOMZ3HvN"
   },
   "source": [
    "## Задание 9\n",
    "\n",
    "1. Повторите 8 задание, но с tf-idf векторизатором. Как изменилось качество?\n"
   ]
  },
  {
   "cell_type": "code",
   "execution_count": 31,
   "metadata": {
    "colab": {
     "base_uri": "https://localhost:8080/"
    },
    "id": "cDqs61hl3ve3",
    "outputId": "fdd72125-dfde-4183-d614-3b0bc9002ada"
   },
   "outputs": [
    {
     "name": "stdout",
     "output_type": "stream",
     "text": [
      "Matrix size: (5329, 10482)\n",
      "F1 score: 0.739564961787184\n"
     ]
    }
   ],
   "source": [
    "from sklearn.feature_extraction.text import TfidfVectorizer\n",
    "\n",
    "tfidf_vectorizer1 = TfidfVectorizer(tokenizer=custom_tokenizer)\n",
    "\n",
    "X_train = tfidf_vectorizer1.fit_transform(train.text)\n",
    "X_test = tfidf_vectorizer1.transform(test.text)\n",
    "\n",
    "logreg = LogisticRegression().fit(X_train, y_train)\n",
    "\n",
    "test_score = f1_score(y_test, logreg.predict(X_test))\n",
    "\n",
    "print(f'Matrix size: {X_train.shape}')\n",
    "print(f'F1 score: {test_score}')\n"
   ]
  },
  {
   "cell_type": "markdown",
   "metadata": {
    "id": "SXaNclTZSFjO"
   },
   "source": [
    "1. **Ответ:** видно, что качество выросло при тех же размерах матрицы, что конечно же не может быть плохо"
   ]
  },
  {
   "cell_type": "markdown",
   "metadata": {
    "id": "CPtk0lCA5POY"
   },
   "source": [
    "2. Мы можем еще сильнее уменьшить размер нашей матрицы, если отбросим значения df близкие к единице. Скорее всего такие слова не несут много информации о категории, так как встречаются достаточно часто. Ограничьте максимальный df в параметрах TfIdfVectorizer, поставьте верхнюю границу равную 0.9. Как изменился размер матрицы, как изменилось качество?\n"
   ]
  },
  {
   "cell_type": "code",
   "execution_count": 32,
   "metadata": {
    "colab": {
     "base_uri": "https://localhost:8080/"
    },
    "id": "EU-MRXyRSHLm",
    "outputId": "6b5353a8-5f3b-4220-fcd4-64eecfe20054"
   },
   "outputs": [
    {
     "name": "stdout",
     "output_type": "stream",
     "text": [
      "Matrix size: (5329, 10482)\n",
      "F1 score: 0.739564961787184\n"
     ]
    }
   ],
   "source": [
    "tfidf_vectorizer2 = TfidfVectorizer(tokenizer=custom_tokenizer, max_df=0.9)\n",
    "\n",
    "X_train = tfidf_vectorizer2.fit_transform(train.text)\n",
    "X_test = tfidf_vectorizer2.transform(test.text)\n",
    "\n",
    "logreg = LogisticRegression().fit(X_train, y_train)\n",
    "\n",
    "test_score = f1_score(y_test, logreg.predict(X_test))\n",
    "\n",
    "print(f'Matrix size: {X_train.shape}')\n",
    "print(f'F1 score: {test_score}')"
   ]
  },
  {
   "cell_type": "markdown",
   "metadata": {
    "id": "4Two_O3rSVmh"
   },
   "source": [
    "2. **Ответ:** ничего совсем не поменялось, скорее всего потому что мы итак выкинули \"не несущие информации\" стоп слова"
   ]
  },
  {
   "cell_type": "markdown",
   "metadata": {
    "id": "VhyjbI5X5QnG"
   },
   "source": [
    "3. Также мы можем уменьшить размер матрицы, удаляя слова со слишком маленьким df. Удалось ли добиться улучшения качества? "
   ]
  },
  {
   "cell_type": "code",
   "execution_count": 33,
   "metadata": {
    "colab": {
     "base_uri": "https://localhost:8080/"
    },
    "id": "9mNpIxv6SfKc",
    "outputId": "607ec22e-1fdb-4c29-bbc4-6447ed266349"
   },
   "outputs": [
    {
     "name": "stdout",
     "output_type": "stream",
     "text": [
      "Matrix size: (5329, 1741)\n",
      "F1 score: 0.7365994236311239\n"
     ]
    }
   ],
   "source": [
    "tfidf_vectorizer3 = TfidfVectorizer(tokenizer=custom_tokenizer, min_df=0.001, max_df=0.9)\n",
    "\n",
    "X_train = tfidf_vectorizer3.fit_transform(train.text)\n",
    "X_test = tfidf_vectorizer3.transform(test.text)\n",
    "\n",
    "logreg = LogisticRegression().fit(X_train, y_train)\n",
    "\n",
    "test_score = f1_score(y_test, logreg.predict(X_test))\n",
    "\n",
    "print(f'Matrix size: {X_train.shape}')\n",
    "print(f'F1 score: {test_score}')"
   ]
  },
  {
   "cell_type": "markdown",
   "metadata": {
    "id": "imeD8skxSqdg"
   },
   "source": [
    "3. **Ответ:** размерность матрицы значительно снизилась при довольно малых изменениях качества, я бы сказал что это тоже успех"
   ]
  },
  {
   "cell_type": "markdown",
   "metadata": {
    "id": "1l1sx4nB3HvN"
   },
   "source": [
    "## Задание 10\n",
    "\n",
    "Еще один популяпный трюк, который позволит уменьшить количество признаков называется hashing trick. Его суть в том, то мы случайно группируем признаки ииии  ..... складываем их! А потом удаляем исходные признаки. В итоге все наши признаки это просто суммы исходных. Звучит странно, но это отлично работает. Давайте проверим этот трюк в нашем сеттинге.\n",
    "Также при таком подходе вам не нужно хранить словарь token->index, что тоже иногда полезно.\n",
    "\n",
    "1. Повторите задание 8 с HashingVectorizer, укажите количество фичей равное 5000.\n"
   ]
  },
  {
   "cell_type": "code",
   "execution_count": 34,
   "metadata": {
    "colab": {
     "base_uri": "https://localhost:8080/"
    },
    "id": "8qSoW894RXxz",
    "outputId": "720818f4-f774-4273-bb10-918ecc72ef44"
   },
   "outputs": [
    {
     "name": "stderr",
     "output_type": "stream",
     "text": [
      "/Users/alex/opt/anaconda3/lib/python3.9/site-packages/sklearn/feature_extraction/text.py:516: UserWarning: The parameter 'token_pattern' will not be used since 'tokenizer' is not None'\n",
      "  warnings.warn(\n"
     ]
    },
    {
     "name": "stdout",
     "output_type": "stream",
     "text": [
      "Matrix size: (5329, 5000)\n",
      "F1 score: 0.714622641509434\n"
     ]
    }
   ],
   "source": [
    "from sklearn.feature_extraction.text import HashingVectorizer\n",
    "\n",
    "hashing_vectorizer = HashingVectorizer(tokenizer=custom_tokenizer, n_features=5000)\n",
    "\n",
    "X_train = hashing_vectorizer.fit_transform(train.text)\n",
    "X_test = hashing_vectorizer.transform(test.text)\n",
    "\n",
    "logreg = LogisticRegression().fit(X_train, y_train)\n",
    "\n",
    "test_score = f1_score(y_test, logreg.predict(X_test))\n",
    "\n",
    "print(f'Matrix size: {X_train.shape}')\n",
    "print(f'F1 score: {test_score}')"
   ]
  },
  {
   "cell_type": "markdown",
   "metadata": {
    "id": "1C3I4ceg6AG-"
   },
   "source": [
    "2. Какой из подходов показал самый высокий результат?"
   ]
  },
  {
   "cell_type": "markdown",
   "metadata": {
    "id": "_bIfyVlOS9Lu"
   },
   "source": [
    "2. **Ответ:** самый высокий результат дал метод с Tf-Idf векторизацией"
   ]
  },
  {
   "cell_type": "markdown",
   "metadata": {
    "id": "zylJ6l0R3HvN"
   },
   "source": [
    "## Задание 11 \n",
    "\n",
    "В этом задании нужно добиться f1 меры хотя в 0.75 на тестовых данных."
   ]
  },
  {
   "cell_type": "code",
   "execution_count": 35,
   "metadata": {},
   "outputs": [],
   "source": [
    "# немного изменим кастомный векторайзер\n",
    "\n",
    "def my_tokenizer(s: str) -> List[str]:\n",
    "    STOP_WORDS = set(nltk.corpus.stopwords.words('english')) # множество стопслов, для скорости\n",
    "    \n",
    "    stemmer = nltk.stem.snowball.SnowballStemmer('english') # создаём экземпляр стеммера\n",
    "    \n",
    "    s = s.lower() # передим строку в нижний регистр\n",
    "    \n",
    "    tokens = nltk.tokenize.TweetTokenizer().tokenize(s) # токенизируем\n",
    "    \n",
    "    # создаём функцию фильрации по условиям\n",
    "    fliter_func = lambda s: is_hashtag(s) or contains_only_latin_letters(s)\n",
    "    \n",
    "    filtered_tokens = filter(fliter_func, tokens) # применяем фильтрацию\n",
    "    \n",
    "    stemmed_tokens = [stemmer.stem(token) for token in filtered_tokens] # делаем стемминг\n",
    "    \n",
    "    return stemmed_tokens"
   ]
  },
  {
   "cell_type": "code",
   "execution_count": 36,
   "metadata": {
    "id": "GSTVApFeS-OY"
   },
   "outputs": [
    {
     "name": "stdout",
     "output_type": "stream",
     "text": [
      "Matrix size: (5329, 10576)\n",
      "F1 score: 0.7501456027955737\n"
     ]
    }
   ],
   "source": [
    "# попробуем докрутить метод с Tf-Idf векторизацией, изменяя max_df векторайзера\n",
    "\n",
    "tfidf_vectorizer4 = TfidfVectorizer(tokenizer=my_tokenizer, max_df=0.1)\n",
    "\n",
    "X_train = tfidf_vectorizer4.fit_transform(train.text)\n",
    "X_test = tfidf_vectorizer4.transform(test.text)\n",
    "\n",
    "logreg = LogisticRegression().fit(X_train, y_train)\n",
    "\n",
    "test_score = f1_score(y_test, logreg.predict(X_test))\n",
    "\n",
    "print(f'Matrix size: {X_train.shape}')\n",
    "print(f'F1 score: {test_score}')\n",
    "\n",
    "#профит!"
   ]
  }
 ],
 "metadata": {
  "colab": {
   "collapsed_sections": [
    "YlLemInT3HvL",
    "A8CPBUal3HvL"
   ],
   "provenance": []
  },
  "kernelspec": {
   "display_name": "Python 3 (ipykernel)",
   "language": "python",
   "name": "python3"
  },
  "language_info": {
   "codemirror_mode": {
    "name": "ipython",
    "version": 3
   },
   "file_extension": ".py",
   "mimetype": "text/x-python",
   "name": "python",
   "nbconvert_exporter": "python",
   "pygments_lexer": "ipython3",
   "version": "3.9.12"
  }
 },
 "nbformat": 4,
 "nbformat_minor": 1
}
